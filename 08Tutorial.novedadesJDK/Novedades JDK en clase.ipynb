{
 "cells": [
  {
   "cell_type": "markdown",
   "metadata": {},
   "source": [
    "# Novedades de Java"
   ]
  },
  {
   "cell_type": "markdown",
   "metadata": {},
   "source": [
    "## Collections"
   ]
  },
  {
   "cell_type": "markdown",
   "metadata": {},
   "source": [
    "#### Colecciones no tipificadas"
   ]
  },
  {
   "cell_type": "code",
   "execution_count": 102,
   "metadata": {},
   "outputs": [
    {
     "data": {
      "text/plain": [
       "true"
      ]
     },
     "execution_count": 102,
     "metadata": {},
     "output_type": "execute_result"
    }
   ],
   "source": [
    "ArrayList lista = new ArrayList();\n",
    "lista.add(1);\n",
    "lista.add(2);\n",
    "lista.add(3);\n",
    "lista.add(4);\n",
    "lista.add(\"Hola\");"
   ]
  },
  {
   "cell_type": "code",
   "execution_count": 103,
   "metadata": {},
   "outputs": [
    {
     "data": {
      "text/plain": [
       "[1, 2, 3, 4, Hola]"
      ]
     },
     "execution_count": 103,
     "metadata": {},
     "output_type": "execute_result"
    }
   ],
   "source": [
    "lista"
   ]
  },
  {
   "cell_type": "code",
   "execution_count": 104,
   "metadata": {},
   "outputs": [
    {
     "name": "stdout",
     "output_type": "stream",
     "text": [
      "10\r\n"
     ]
    }
   ],
   "source": [
    "int suma = 0;\n",
    "for(Object o:lista)\n",
    "    if (o instanceof Integer numero)\n",
    "        suma += numero;\n",
    "System.out.println(suma);"
   ]
  },
  {
   "cell_type": "markdown",
   "metadata": {},
   "source": [
    "#### Colecciones tipificadas"
   ]
  },
  {
   "cell_type": "markdown",
   "metadata": {},
   "source": [
    "Solo se admiten los <'E'> elementos permitidos en su definición."
   ]
  },
  {
   "cell_type": "code",
   "execution_count": 105,
   "metadata": {},
   "outputs": [
    {
     "data": {
      "text/plain": [
       "true"
      ]
     },
     "execution_count": 105,
     "metadata": {},
     "output_type": "execute_result"
    }
   ],
   "source": [
    "ArrayList<Integer> lista= new ArrayList<Integer>();\n",
    "lista.add(1);\n",
    "lista.add(2);\n",
    "lista.add(3);\n",
    "lista.add(4);"
   ]
  },
  {
   "cell_type": "code",
   "execution_count": 106,
   "metadata": {},
   "outputs": [
    {
     "name": "stdout",
     "output_type": "stream",
     "text": [
      "10\r\n"
     ]
    }
   ],
   "source": [
    "int suma = 0;\n",
    "for(int numero:lista) //Autoboxing\n",
    "    suma += numero;\n",
    "System.out.println(suma);"
   ]
  },
  {
   "cell_type": "markdown",
   "metadata": {},
   "source": [
    "#### Creación de colecciones"
   ]
  },
  {
   "cell_type": "markdown",
   "metadata": {},
   "source": [
    "Genera una lista inmutable de elementos"
   ]
  },
  {
   "cell_type": "code",
   "execution_count": 108,
   "metadata": {},
   "outputs": [],
   "source": [
    "List<Integer> lista = List.of(1,2,3,4);"
   ]
  },
  {
   "cell_type": "code",
   "execution_count": 109,
   "metadata": {},
   "outputs": [
    {
     "data": {
      "text/plain": [
       "[1, 2, 3, 4]"
      ]
     },
     "execution_count": 109,
     "metadata": {},
     "output_type": "execute_result"
    }
   ],
   "source": [
    "lista"
   ]
  },
  {
   "cell_type": "markdown",
   "metadata": {},
   "source": [
    "## Argumentos variables (var args)"
   ]
  },
  {
   "cell_type": "markdown",
   "metadata": {},
   "source": [
    "Hasta ahora, la forma de recibir diferente número de argumentos era sobrecargando los métodos."
   ]
  },
  {
   "cell_type": "code",
   "execution_count": 59,
   "metadata": {},
   "outputs": [],
   "source": [
    "class Util\n",
    "{\n",
    "    static int sumar(int numero1, int numero2)\n",
    "    {\n",
    "        return numero1 + numero2;\n",
    "    }\n",
    "    \n",
    "    static int sumar(int numero1, int numero2, int numero3)\n",
    "    {\n",
    "        return sumar(numero1, numero2) + numero3;\n",
    "    }\n",
    "    \n",
    "    static int sumar(int numero1, int numero2, int numero3, int numero4)\n",
    "    {\n",
    "        return sumar(numero1, numero2, numero3) + numero4;\n",
    "    }   \n",
    "}"
   ]
  },
  {
   "cell_type": "code",
   "execution_count": 60,
   "metadata": {},
   "outputs": [
    {
     "data": {
      "text/plain": [
       "3"
      ]
     },
     "execution_count": 60,
     "metadata": {},
     "output_type": "execute_result"
    }
   ],
   "source": [
    "Util.sumar(1, 2);"
   ]
  },
  {
   "cell_type": "code",
   "execution_count": 61,
   "metadata": {},
   "outputs": [
    {
     "data": {
      "text/plain": [
       "6"
      ]
     },
     "execution_count": 61,
     "metadata": {},
     "output_type": "execute_result"
    }
   ],
   "source": [
    "Util.sumar(1, 2, 3);"
   ]
  },
  {
   "cell_type": "code",
   "execution_count": 62,
   "metadata": {},
   "outputs": [
    {
     "data": {
      "text/plain": [
       "10"
      ]
     },
     "execution_count": 62,
     "metadata": {},
     "output_type": "execute_result"
    }
   ],
   "source": [
    "Util.sumar(1, 2, 3, 4);"
   ]
  },
  {
   "cell_type": "markdown",
   "metadata": {},
   "source": [
    "Con la aparición de los varargs podemos trabajar con infinitos argumentos. Éstos se almacenarán en un array para su procesamiento."
   ]
  },
  {
   "cell_type": "code",
   "execution_count": 63,
   "metadata": {},
   "outputs": [],
   "source": [
    "class Util\n",
    "{\n",
    "    static int sumar(int... numeros)\n",
    "    {\n",
    "        int suma = 0;\n",
    "        for(int numero:numeros)\n",
    "            suma += numero;\n",
    "        return suma;\n",
    "    }\n",
    "}"
   ]
  },
  {
   "cell_type": "code",
   "execution_count": 66,
   "metadata": {},
   "outputs": [
    {
     "data": {
      "text/plain": [
       "3"
      ]
     },
     "execution_count": 66,
     "metadata": {},
     "output_type": "execute_result"
    }
   ],
   "source": [
    "Util.sumar(1, 2);"
   ]
  },
  {
   "cell_type": "code",
   "execution_count": 67,
   "metadata": {},
   "outputs": [
    {
     "data": {
      "text/plain": [
       "6"
      ]
     },
     "execution_count": 67,
     "metadata": {},
     "output_type": "execute_result"
    }
   ],
   "source": [
    "Util.sumar(1, 2, 3);"
   ]
  },
  {
   "cell_type": "code",
   "execution_count": 68,
   "metadata": {},
   "outputs": [
    {
     "data": {
      "text/plain": [
       "10"
      ]
     },
     "execution_count": 68,
     "metadata": {},
     "output_type": "execute_result"
    }
   ],
   "source": [
    "Util.sumar(1, 2, 3, 4);"
   ]
  },
  {
   "cell_type": "markdown",
   "metadata": {},
   "source": [
    "## Records: creación de clases de forma rápida"
   ]
  },
  {
   "cell_type": "markdown",
   "metadata": {},
   "source": [
    "Hemos visto la manera formal de creación de clases. En algunas ocasiones necesitaremos clases muy básicas, de funcionalidad reducida, que queramos crear de una forma rápida: **records**.\n",
    "\n",
    "Los records implementan los métodos _equals_ , _toString_ y _hashCode_.\n",
    "\n",
    "También implenta automáticamente los getters en formato record, es decir, con los nombres únicamente del propio atributo:\n",
    "\n",
    "```\n",
    "persona.nombre()\n",
    "```"
   ]
  },
  {
   "cell_type": "code",
   "execution_count": 2,
   "metadata": {},
   "outputs": [],
   "source": [
    "public record Persona(String nombre, int edad){}"
   ]
  },
  {
   "cell_type": "code",
   "execution_count": 3,
   "metadata": {},
   "outputs": [],
   "source": [
    "List<Persona> personas = List.of(new Persona(\"Luis\", 22),\n",
    "                                new Persona(\"Pepe\", 10),\n",
    "                                new Persona(\"Juan\", 8));"
   ]
  },
  {
   "cell_type": "code",
   "execution_count": 4,
   "metadata": {},
   "outputs": [
    {
     "data": {
      "text/plain": [
       "[Persona[nombre=Luis, edad=22], Persona[nombre=Pepe, edad=10], Persona[nombre=Juan, edad=8]]"
      ]
     },
     "execution_count": 4,
     "metadata": {},
     "output_type": "execute_result"
    }
   ],
   "source": [
    "personas"
   ]
  },
  {
   "cell_type": "code",
   "execution_count": 5,
   "metadata": {},
   "outputs": [
    {
     "data": {
      "text/plain": [
       "Luis"
      ]
     },
     "execution_count": 5,
     "metadata": {},
     "output_type": "execute_result"
    }
   ],
   "source": [
    "Persona persona = personas.get(0);\n",
    "persona.nombre()"
   ]
  },
  {
   "cell_type": "markdown",
   "metadata": {},
   "source": [
    "Se podría personalizar a nuestro gusto"
   ]
  },
  {
   "cell_type": "code",
   "execution_count": 131,
   "metadata": {},
   "outputs": [],
   "source": [
    "public record Persona(String nombre, int edad)\n",
    "{\n",
    "    int getEdad()\n",
    "    {\n",
    "        return edad;\n",
    "    }\n",
    "}"
   ]
  },
  {
   "cell_type": "code",
   "execution_count": 132,
   "metadata": {},
   "outputs": [],
   "source": [
    "class Util\n",
    "{\n",
    "    static int sumar(Persona... personas)\n",
    "    {\n",
    "        int suma = 0;\n",
    "        for(Persona persona:personas)\n",
    "            suma += persona.getEdad();\n",
    "        return suma;\n",
    "    }\n",
    "}"
   ]
  },
  {
   "cell_type": "code",
   "execution_count": 133,
   "metadata": {},
   "outputs": [
    {
     "data": {
      "text/plain": [
       "40"
      ]
     },
     "execution_count": 133,
     "metadata": {},
     "output_type": "execute_result"
    }
   ],
   "source": [
    "Util.sumar(new Persona(\"Luis\", 22),\n",
    "        new Persona(\"Pepe\", 10),\n",
    "        new Persona(\"Juan\", 8));"
   ]
  },
  {
   "cell_type": "code",
   "execution_count": 144,
   "metadata": {},
   "outputs": [
    {
     "data": {
      "text/plain": [
       "40"
      ]
     },
     "execution_count": 144,
     "metadata": {},
     "output_type": "execute_result"
    }
   ],
   "source": [
    "personas.stream()\n",
    "        .mapToInt(x -> x.getEdad())\n",
    "        .reduce(0, Integer::sum);"
   ]
  },
  {
   "cell_type": "markdown",
   "metadata": {},
   "source": [
    "## No tipificación de los objetos\n",
    "\n",
    "Siguiendo la tendencia de muchos lenguajes de programación que no realizan una inferencia de tipos (Python) o que suprimen el tipo de la definición de variables, en Java se da la posibilidad de eliminar el tipo de la definición para simplificar el código. \n",
    "\n",
    "Para evitar los problemas derivados de la inferencia de tipos, Java solo permite definir variables así en el momento de creación del objeto, es decir, no permite definir solo variables sin tipo ni declararlas como parámetros (que sería lo mismo)."
   ]
  },
  {
   "cell_type": "code",
   "execution_count": 6,
   "metadata": {},
   "outputs": [
    {
     "data": {
      "text/plain": [
       "HOLA"
      ]
     },
     "execution_count": 6,
     "metadata": {},
     "output_type": "execute_result"
    }
   ],
   "source": [
    "var nombre = \"Hola\";\n",
    "nombre.toUpperCase();"
   ]
  },
  {
   "cell_type": "code",
   "execution_count": 7,
   "metadata": {},
   "outputs": [
    {
     "data": {
      "text/plain": [
       "5"
      ]
     },
     "execution_count": 7,
     "metadata": {},
     "output_type": "execute_result"
    }
   ],
   "source": [
    "var i = 5;\n",
    "i"
   ]
  },
  {
   "cell_type": "code",
   "execution_count": 8,
   "metadata": {},
   "outputs": [
    {
     "data": {
      "text/plain": [
       "2"
      ]
     },
     "execution_count": 8,
     "metadata": {},
     "output_type": "execute_result"
    }
   ],
   "source": [
    "var lista = new ArrayList<Integer>();\n",
    "lista.add(1);\n",
    "lista.add(2);\n",
    "lista.add(3);\n",
    "\n",
    "lista.get(1);"
   ]
  },
  {
   "cell_type": "code",
   "execution_count": 116,
   "metadata": {},
   "outputs": [
    {
     "data": {
      "text/plain": [
       "class java.util.ArrayList"
      ]
     },
     "execution_count": 116,
     "metadata": {},
     "output_type": "execute_result"
    }
   ],
   "source": [
    "lista.getClass()"
   ]
  },
  {
   "cell_type": "markdown",
   "metadata": {},
   "source": [
    "### Restricciones en el uso de _var_\n",
    "\n",
    "No se permiten declarar objetos no tipificados cuando van acoompañados de la creación del objeto, es decir, no se puede inferir en tiempo de compilación. Este hecho hace la compilación segura. \n",
    "\n",
    "Este hecho no ocurre en Python, por ejemplo."
   ]
  },
  {
   "cell_type": "code",
   "execution_count": 124,
   "metadata": {},
   "outputs": [
    {
     "ename": "CompilationException",
     "evalue": "",
     "output_type": "error",
     "traceback": [
      "\u001b[1m\u001b[30m|   \u001b[1m\u001b[30m\u001b[0m\u001b[1m\u001b[30m\u001b[41mvar lista;\u001b[0m\u001b[1m\u001b[30m\u001b[0m",
      "\u001b[1m\u001b[31mcannot infer type for local variable lista\u001b[0m",
      "\u001b[1m\u001b[31m  (cannot use 'var' on variable without initializer)\u001b[0m",
      ""
     ]
    }
   ],
   "source": [
    "var lista;\n",
    "lista = new ArrayList<Integer>();"
   ]
  },
  {
   "cell_type": "code",
   "execution_count": 123,
   "metadata": {},
   "outputs": [
    {
     "ename": "CompilationException",
     "evalue": "",
     "output_type": "error",
     "traceback": [
      "\u001b[1m\u001b[30m|   \u001b[1m\u001b[30m    \u001b[0m\u001b[1m\u001b[30m\u001b[41mvar\u001b[0m\u001b[1m\u001b[30m atributo;\u001b[0m",
      "\u001b[1m\u001b[31m'var' is not allowed here\u001b[0m",
      "",
      "\u001b[1m\u001b[30m|   \u001b[1m\u001b[30m    void metodo(\u001b[0m\u001b[1m\u001b[30m\u001b[41mvar\u001b[0m\u001b[1m\u001b[30m a)\u001b[0m",
      "\u001b[1m\u001b[31m'var' is not allowed here\u001b[0m",
      ""
     ]
    }
   ],
   "source": [
    "class Clase\n",
    "{\n",
    "    var atributo;\n",
    "\n",
    "    void metodo(var a)\n",
    "    {\n",
    "        a = 4;\n",
    "    }\n",
    "}"
   ]
  },
  {
   "cell_type": "markdown",
   "metadata": {},
   "source": [
    "## Métodos default en interfaces\n",
    "\n",
    "Java permite la posibilidad de implementar métodos por defecto en los interfaces para que sean la implementación por defecto en caso de omisión.\n",
    "\n",
    "De esta forma, se puede generalizar un comportamiento común a nivel de interfaces."
   ]
  },
  {
   "cell_type": "code",
   "execution_count": 52,
   "metadata": {},
   "outputs": [
    {
     "name": "stdout",
     "output_type": "stream",
     "text": [
      "Pintando como un lapiz\n",
      "Pintando\n"
     ]
    }
   ],
   "source": [
    "public interface Pintable\n",
    "{\n",
    "    default String pintar()\n",
    "    {\n",
    "        return \"Pintando\";\n",
    "    }\n",
    "}\n",
    "\n",
    "public class Lapicero implements Pintable\n",
    "{\n",
    "    public String pintar()\n",
    "    {\n",
    "        return \"Pintando como un lapiz\";\n",
    "    }\n",
    "}\n",
    "\n",
    "public class Boligafo implements Pintable\n",
    "{\n",
    "\n",
    "}\n",
    "\n",
    "Pintable lapiz = new Lapicero();\n",
    "Pintable boli = new Boligafo();\n",
    "\n",
    "System.out.println(lapiz.pintar());\n",
    "System.out.println(boli.pintar());"
   ]
  },
  {
   "cell_type": "code",
   "execution_count": null,
   "metadata": {},
   "outputs": [],
   "source": []
  }
 ],
 "metadata": {
  "kernelspec": {
   "display_name": "Java",
   "language": "java",
   "name": "java"
  },
  "language_info": {
   "codemirror_mode": "java",
   "file_extension": ".jshell",
   "mimetype": "text/x-java-source",
   "name": "Java",
   "pygments_lexer": "java",
   "version": "16.0.1+9-24"
  }
 },
 "nbformat": 4,
 "nbformat_minor": 4
}
