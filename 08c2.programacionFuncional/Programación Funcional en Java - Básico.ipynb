{
 "cells": [
  {
   "cell_type": "markdown",
   "metadata": {},
   "source": [
    "# Programación Funcional en Java - Nivel Básico"
   ]
  },
  {
   "cell_type": "markdown",
   "metadata": {},
   "source": [
    "## Introducción a los paradigmas de programación\n",
    "\n",
    "### Imperativa:\n",
    "- Dice cómo hacer las cosas. \n",
    "- Sentencias de código que expresan el fujo de programación.\n",
    "- Tipos:\n",
    "    - Programación procedural.\n",
    "    - Programación orientada a objetos.\n",
    "    - Programación paralela.\n",
    "\n",
    "### Declarativa:\n",
    "- Dice qué hacer.\n",
    "- Expresa la lógica de un programa sin especificar su control de flujo.\n",
    "- Expresiones o declaraciones en lugar de sentencias.\n",
    "- Tipos:\n",
    "    - Procesamiento de bases de datos (SQL).\n",
    "    - Programación lógica.\n",
    "    - Programación funcional (Haskell).\n",
    "\n",
    "\n",
    "### Programación Funcional:\n",
    "- Es una forma de programación declarativa.\n",
    "- Trata la computación como la evolución de una función matemática y evita los cambios de estado y los datos mutables. Lo contrario a la programación a objetos.\n",
    "- Los programas son vistos como la evaluación de funciones puras de transformación de datos. "
   ]
  },
  {
   "cell_type": "markdown",
   "metadata": {},
   "source": [
    "## Tipos de Funciones\n",
    "\n",
    "### Funciones de primer orden\n",
    "\n",
    "Los ciudadanos de primera en Java son los objetos, no las funciones. Por ese motivo, se dice que Java no soporta las funciones de primer orden. \n",
    "\n",
    "La forma que tiene Java de solucionar esto, es definiendo funciones como objetos, los cuales pueden ser gestionados como referencias a funciones y pueden ser pasadas como argumentos.\n",
    "\n",
    "En otros lenguajes se puede ver lo siguiente:\n",
    "- Javascript:\n",
    "```javascript\n",
    "var x = function (a, b) {return a * b};\n",
    "x(2, 3);\n",
    "```\n",
    "- Python:\n",
    "```python\n",
    "def multiplicar(a, b):\n",
    "    return a * b\n",
    "x = multiplicar\n",
    "x(2, 3)\n",
    "```\n",
    "- Scala:\n",
    "```Scala\n",
    "val x = (a: Int, b:Int) => a * b\n",
    "x(2, 3)\n",
    "```"
   ]
  },
  {
   "cell_type": "markdown",
   "metadata": {},
   "source": [
    "### Funciones de orden superior\n",
    "\n",
    "Cuando una función recibe otras funciones como parámetro, se la denomina de **orden superior**.\n",
    "\n",
    "Muchos lenguajes nos proveen con una serie de funciones de orden superior para trabajar con estructuras de datos. De entre ellas, las más conocidas son map y reduce: la primera aplica la misma función sobre cada elemento de una colección, y la segunda acumula los elementos en un único valor según una función dada. Veamos un ejemplo:"
   ]
  },
  {
   "cell_type": "markdown",
   "metadata": {},
   "source": [
    "## Expresiones Lambdas y API Stream\n",
    "\n",
    "Las **expresiones lambdas** son métodos/funciones sin nombre que pueden ser pasadas como argumentos de un método.\n",
    "\n",
    "Están compuestas de uno o varios parámetros y un cuerpo que implementa su funcionalidad.\n",
    "\n",
    "```\n",
    "objeto.metodo(expresionLambdaComoArgumento)\n",
    "\n",
    "objeto.metodo((args) -> {cuerpo})\n",
    "```\n",
    "\n",
    "Las expresiones lambdas se pueden aplicar a varios contextos Java: funcionalidades sobre streams (Predicate, Consumer, Function, ...), Single Abstract Methods (SAM), Functional Interfaces, etc.\n",
    "\n",
    "El **API Stream** permite generar una secuencia de elementos sobre los datos para tratarlos de forma funcional, permitiendo ejecutar métodos que pueden recibir como argumentos expresiones lambdas. Las operaciones realizadas sobre los streams generan nuevos streams y no modifican el original."
   ]
  },
  {
   "cell_type": "markdown",
   "metadata": {},
   "source": [
    "#### Ejemplo #1 de programación procedural (imperativa)"
   ]
  },
  {
   "cell_type": "code",
   "execution_count": 9,
   "metadata": {},
   "outputs": [
    {
     "name": "stdout",
     "output_type": "stream",
     "text": [
      "1 2 3 4 5 6 "
     ]
    }
   ],
   "source": [
    "List<Integer> numeros = List.of(1,2,3,4,5,6);\n",
    "for(int numero:numeros)\n",
    "    System.out.print(numero + \" \");"
   ]
  },
  {
   "cell_type": "markdown",
   "metadata": {},
   "source": [
    "#### Ejemplo #1 de programación funcional (declarativa)"
   ]
  },
  {
   "cell_type": "markdown",
   "metadata": {},
   "source": [
    "Se van pasando como argumentos la funcionalidad que se desea ejecutar sobre los datos inmutables."
   ]
  },
  {
   "cell_type": "code",
   "execution_count": 10,
   "metadata": {},
   "outputs": [
    {
     "name": "stdout",
     "output_type": "stream",
     "text": [
      "1 2 3 4 5 6 "
     ]
    }
   ],
   "source": [
    "List<Integer> numeros = List.of(1,2,3,4,5,6);\n",
    "numeros.stream()\n",
    "    .forEach(x -> System.out.print(x + \" \"));"
   ]
  },
  {
   "cell_type": "markdown",
   "metadata": {},
   "source": [
    "#### Ejemplo #2 de programación procedural (imperativa)"
   ]
  },
  {
   "cell_type": "code",
   "execution_count": 11,
   "metadata": {},
   "outputs": [
    {
     "name": "stdout",
     "output_type": "stream",
     "text": [
      "6 8 10 12 "
     ]
    }
   ],
   "source": [
    "List<Integer> numeros = List.of(1,2,3,4,5,6);\n",
    "for(int numero:numeros)\n",
    "    if(numero > 2)\n",
    "    {\n",
    "        numero *= 2;\n",
    "        System.out.print(numero + \" \");\n",
    "    }"
   ]
  },
  {
   "cell_type": "markdown",
   "metadata": {},
   "source": [
    "#### Ejemplo #2 de programación funcional (declarativa)"
   ]
  },
  {
   "cell_type": "markdown",
   "metadata": {},
   "source": [
    "Se van pasando como argumentos la funcionalidad que se desea ejecutar sobre los datos inmutables."
   ]
  },
  {
   "cell_type": "code",
   "execution_count": 12,
   "metadata": {},
   "outputs": [
    {
     "name": "stdout",
     "output_type": "stream",
     "text": [
      "6 8 10 12 "
     ]
    }
   ],
   "source": [
    "List<Integer> numeros = List.of(1,2,3,4,5,6);\n",
    "numeros.stream()\n",
    "    .filter(x -> x > 2)\n",
    "    .map(x -> x * 2)\n",
    "    .forEach(x -> System.out.print(x + \" \"));"
   ]
  },
  {
   "cell_type": "markdown",
   "metadata": {},
   "source": [
    "Los parámetros definidos en la expresión lambda podrían tipificarse, aunque como el origen de las funciones a ejecutar sobre los datos es la colección tipicada, puede omitirse y es el modo común de programar. No es habitual encontrarse con el siguiente código:"
   ]
  },
  {
   "cell_type": "code",
   "execution_count": 13,
   "metadata": {},
   "outputs": [
    {
     "name": "stdout",
     "output_type": "stream",
     "text": [
      "6 8 10 12 "
     ]
    }
   ],
   "source": [
    "List<Integer> numeros = List.of(1,2,3,4,5,6);\n",
    "numeros.stream()\n",
    "    .filter((Integer x) -> x > 2)\n",
    "    .map((Integer x) -> x * 2)\n",
    "    .forEach((Integer x) -> System.out.print(x + \" \"));"
   ]
  },
  {
   "cell_type": "markdown",
   "metadata": {},
   "source": [
    "### Encapsulando las lambdas en clases"
   ]
  },
  {
   "cell_type": "markdown",
   "metadata": {},
   "source": [
    "Las acciones declaradas en las funciones lambdas puede ser de la complejidad/dimensión que se quiera."
   ]
  },
  {
   "cell_type": "code",
   "execution_count": 14,
   "metadata": {},
   "outputs": [
    {
     "name": "stdout",
     "output_type": "stream",
     "text": [
      "6 8 10 12 "
     ]
    }
   ],
   "source": [
    "List<Integer> numeros = List.of(1,2,3,4,5,6);\n",
    "numeros.stream()\n",
    "    .filter(x -> x > 2)\n",
    "    .map(x -> { x *= 2;\n",
    "                x /= 2;\n",
    "                x += 1; \n",
    "                x -= 1;\n",
    "                x *= 2;\n",
    "                return x;\n",
    "                })\n",
    "    .forEach(x -> System.out.print(x + \" \"));"
   ]
  },
  {
   "cell_type": "markdown",
   "metadata": {},
   "source": [
    "Por este motivo, cuando la implementación de la expresión lambda es compleja, se puede encapsular bajo métodos de una clase."
   ]
  },
  {
   "cell_type": "code",
   "execution_count": 15,
   "metadata": {},
   "outputs": [],
   "source": [
    "class UtilNumeros\n",
    "{\n",
    "    static int multiplicar(int numero)\n",
    "    {\n",
    "        numero *= 2;\n",
    "        numero /= 2;\n",
    "        numero += 1; \n",
    "        numero -= 1;\n",
    "        numero *= 2;\n",
    "        return numero;\n",
    "    }\n",
    "\n",
    "    static boolean filtrar(int numero)\n",
    "    {\n",
    "        return numero > 2;\n",
    "    }\n",
    "\n",
    "    static void imprimir(int numero)\n",
    "    {\n",
    "        System.out.print(numero + \" \");\n",
    "    }\n",
    "}"
   ]
  },
  {
   "cell_type": "markdown",
   "metadata": {},
   "source": [
    "Esta forma de llamar a los métodos (que ahora poseen la funcionalidad) dentro de la expresión lambda es la tradicional."
   ]
  },
  {
   "cell_type": "code",
   "execution_count": 20,
   "metadata": {},
   "outputs": [
    {
     "name": "stdout",
     "output_type": "stream",
     "text": [
      "6 8 10 12 "
     ]
    }
   ],
   "source": [
    "List<Integer> numeros = List.of(1,2,3,4,5,6);\n",
    "numeros.stream()\n",
    "    .filter(x -> UtilNumeros.filtrar(x))\n",
    "    .map(x -> UtilNumeros.multiplicar(x))\n",
    "    .forEach(x -> UtilNumeros.imprimir(x));"
   ]
  },
  {
   "cell_type": "markdown",
   "metadata": {},
   "source": [
    "### Referencias a métodos como expresión lambda\n",
    "\n",
    "Existe una forma de generar automáticamente la expresión lambda y es mediante la expresión ::.\n",
    "\n",
    "En este caso se puede omitir tanto el argumento de la expresión lambda, como el que se pasará al método invocado.\n",
    "\n",
    "Se pase de...\n",
    "\n",
    "```java\n",
    "filter(x -> UtilNumeros.filtrar(x))\n",
    "```\n",
    "a...\n",
    "```java\n",
    "filter(UtilNumeros::filtrar)\n",
    "```"
   ]
  },
  {
   "cell_type": "code",
   "execution_count": 19,
   "metadata": {},
   "outputs": [
    {
     "name": "stdout",
     "output_type": "stream",
     "text": [
      "6 8 10 12 "
     ]
    }
   ],
   "source": [
    "List<Integer> numeros = List.of(1,2,3,4,5,6);\n",
    "numeros.stream()\n",
    "    .filter(UtilNumeros::filtrar)\n",
    "    .map(UtilNumeros::multiplicar)\n",
    "    .forEach(UtilNumeros::imprimir);"
   ]
  },
  {
   "cell_type": "markdown",
   "metadata": {},
   "source": [
    "Otro ejemplo de utilización de :: para la generación de expresiones lambdas e invocación a métodos de instancia, en este caso de la clase String."
   ]
  },
  {
   "cell_type": "code",
   "execution_count": 18,
   "metadata": {},
   "outputs": [
    {
     "name": "stdout",
     "output_type": "stream",
     "text": [
      "HOLA\n",
      "ADIÓS\n"
     ]
    }
   ],
   "source": [
    "List<String> palabras = List.of(\"hola\", \"adiós\");\n",
    "palabras.stream()\n",
    "    .map(String::toUpperCase)\n",
    "    .forEach(System.out::println);"
   ]
  },
  {
   "cell_type": "markdown",
   "metadata": {},
   "source": [
    "## Programación funcional con Collections\n",
    "\n",
    "Algunas clases, como las colecciones, se han adaptado para soportar en su interfaz el paso de funciones lambda como argumentos.\n",
    "\n",
    "https://docs.oracle.com/en/java/javase/17/docs/api/java.base/java/util/ArrayList.html\n",
    "\n",
    "Nuevos métodos para trabajar con lambdas en las Collections:\n",
    "- forEach(lambda)\n",
    "- removeIf(lambda)"
   ]
  },
  {
   "cell_type": "markdown",
   "metadata": {},
   "source": [
    "#### Versión procedural"
   ]
  },
  {
   "cell_type": "markdown",
   "metadata": {},
   "source": [
    "Ojo, porque en este caso se convierte a un ArrayList y no se deja como una List, ya que la lista generada por List.of es inmutable y no se pueden eliminar elementos."
   ]
  },
  {
   "cell_type": "code",
   "execution_count": 87,
   "metadata": {},
   "outputs": [
    {
     "data": {
      "text/plain": [
       "[Luis, Javier, Marta, Jaime]"
      ]
     },
     "execution_count": 87,
     "metadata": {},
     "output_type": "execute_result"
    }
   ],
   "source": [
    "ArrayList<String> listaNombres = new ArrayList<>(List.of(\"Luis\", \"Javier\", \"Ana\", \"Marta\", \"Jaime\"));\n",
    "Iterator<String> it = listaNombres.iterator();\n",
    "while(it.hasNext())\n",
    "{\n",
    "    String nombre = it.next();\n",
    "    if(nombre.length()==3)\n",
    "        it.remove();\n",
    "}\n",
    "\n",
    "listaNombres"
   ]
  },
  {
   "cell_type": "markdown",
   "metadata": {},
   "source": [
    "#### Versión funcional"
   ]
  },
  {
   "cell_type": "code",
   "execution_count": 162,
   "metadata": {},
   "outputs": [
    {
     "data": {
      "text/plain": [
       "[Luis, Javier, Marta, Jaime]"
      ]
     },
     "execution_count": 162,
     "metadata": {},
     "output_type": "execute_result"
    }
   ],
   "source": [
    "ArrayList<String> listaNombres = new ArrayList<>(List.of(\"Luis\", \"Javier\", \"Ana\", \"Marta\", \"Jaime\"));\n",
    "listaNombres.removeIf(nombre -> nombre.length() == 3);\n",
    "listaNombres"
   ]
  },
  {
   "cell_type": "markdown",
   "metadata": {},
   "source": [
    "Si se hubiese implementado esta solución con Streams, se podría haber realizado con List inmutables, ya que las operaciones con streams siempre generan copias y no actúan sobre los datos originales."
   ]
  },
  {
   "cell_type": "code",
   "execution_count": 163,
   "metadata": {},
   "outputs": [
    {
     "data": {
      "text/plain": [
       "[Luis, Javier, Marta, Jaime]"
      ]
     },
     "execution_count": 163,
     "metadata": {},
     "output_type": "execute_result"
    }
   ],
   "source": [
    "List<String> listaNombres = List.of(\"Luis\", \"Javier\", \"Ana\", \"Marta\", \"Jaime\");\n",
    "listaNombres = listaNombres.stream()\n",
    "        .filter(nombre -> nombre.length() != 3)\n",
    "        .toList();\n",
    "listaNombres"
   ]
  },
  {
   "cell_type": "markdown",
   "metadata": {},
   "source": [
    "### Cambio de enfoque\n",
    "\n",
    "Como se puede ver con el ejemplo anterior, el código funcional resulta más elegante. Otras, sin embargo, dependerán del caso de uso en cuestión o de interpretaciones más subjetivas.\n",
    "\n",
    "El plantear una solución declarativa requiere un análisis y diseño añadido respecto al enfoque step by step de la programación declarativa."
   ]
  },
  {
   "cell_type": "markdown",
   "metadata": {},
   "source": [
    "#### Versión procedural"
   ]
  },
  {
   "cell_type": "markdown",
   "metadata": {},
   "source": [
    "Como en este caso no se alterará la lista inmutable, se puede trabajar con _List.of_."
   ]
  },
  {
   "cell_type": "code",
   "execution_count": 90,
   "metadata": {},
   "outputs": [
    {
     "name": "stdout",
     "output_type": "stream",
     "text": [
      "Luis\n",
      "Javier\n",
      "Ana\n",
      "Marta\n",
      "Jaime\n"
     ]
    }
   ],
   "source": [
    "Collection<String> listaNombres = List.of(\"Luis\", \"Javier\", \"Ana\", \"Marta\", \"Jaime\");\n",
    "for(String nombre:listaNombres)\n",
    "    System.out.println(nombre);"
   ]
  },
  {
   "cell_type": "markdown",
   "metadata": {},
   "source": [
    "#### Versión funcional"
   ]
  },
  {
   "cell_type": "code",
   "execution_count": 91,
   "metadata": {},
   "outputs": [
    {
     "name": "stdout",
     "output_type": "stream",
     "text": [
      "Luis\n",
      "Javier\n",
      "Ana\n",
      "Marta\n",
      "Jaime\n"
     ]
    }
   ],
   "source": [
    "Collection<String> listaNombres = List.of(\"Luis\", \"Javier\", \"Ana\", \"Marta\", \"Jaime\");\n",
    "listaNombres.forEach(System.out::println);"
   ]
  },
  {
   "cell_type": "markdown",
   "metadata": {},
   "source": [
    "## Programación funcional con Interfaces tipos SAM (Interfaces Funcionales)"
   ]
  },
  {
   "cell_type": "markdown",
   "metadata": {},
   "source": [
    "Los tipos **Single Abstract Methods** (SAM) hacen referencia a interfaces con un solo método abstracto. Todos los tipos SAM se interpretarán como Interfaces Funcionales y su implementación podrá ser gestionada como una expresión lambda. Estos interfaces funcionales podrán llevar asociada la anotación @FunctionalInterface o no, pero como siempre, se aconseja etiquetarlo así para evitar futuros errores.\n",
    "\n",
    "Por ejemplo, el interface Matemáticas podrá tener la anotación o no. En cualquier caso Java interfiere que cualquier tipo SAM es un interface funcional."
   ]
  },
  {
   "cell_type": "code",
   "execution_count": 95,
   "metadata": {},
   "outputs": [],
   "source": [
    "public interface Matematicas\n",
    "{\n",
    "    public int sumar(int x, int y);\n",
    "}"
   ]
  },
  {
   "cell_type": "code",
   "execution_count": 101,
   "metadata": {},
   "outputs": [],
   "source": [
    "@FunctionalInterface\n",
    "public interface Matematicas\n",
    "{\n",
    "    public int sumar(int x, int y);\n",
    "}"
   ]
  },
  {
   "cell_type": "markdown",
   "metadata": {},
   "source": [
    "Pero en esta caso, ya no será un interface funcional al definir más de un método abstracto. No será un tipo SAM."
   ]
  },
  {
   "cell_type": "code",
   "execution_count": 98,
   "metadata": {},
   "outputs": [
    {
     "ename": "CompilationException",
     "evalue": "",
     "output_type": "error",
     "traceback": [
      "\u001b[1m\u001b[30m|   \u001b[1m\u001b[30m\u001b[0m\u001b[1m\u001b[30m\u001b[41m@FunctionalInterface\u001b[0m\u001b[1m\u001b[30m\u001b[0m",
      "\u001b[1m\u001b[31mUnexpected @FunctionalInterface annotation\u001b[0m",
      "\u001b[1m\u001b[31m  Matematicas is not a functional interface\u001b[0m",
      "\u001b[1m\u001b[31m    multiple non-overriding abstract methods found in interface Matematicas\u001b[0m",
      ""
     ]
    }
   ],
   "source": [
    "@FunctionalInterface\n",
    "public interface Matematicas\n",
    "{\n",
    "    public int sumar(int x, int y);\n",
    "    public int restar(int x, int y);\n",
    "}"
   ]
  },
  {
   "cell_type": "markdown",
   "metadata": {},
   "source": [
    "#### Versión procedural"
   ]
  },
  {
   "cell_type": "markdown",
   "metadata": {},
   "source": [
    "La implementación procedural se puede realizar con la herencia de una clase de una forma clásica..."
   ]
  },
  {
   "cell_type": "code",
   "execution_count": 107,
   "metadata": {},
   "outputs": [],
   "source": [
    "@FunctionalInterface\n",
    "public interface Matematicas\n",
    "{\n",
    "    public int sumar(int x, int y);\n",
    "}"
   ]
  },
  {
   "cell_type": "markdown",
   "metadata": {},
   "source": [
    "Se podría hacer una implementación sobre una herencia de una clase:"
   ]
  },
  {
   "cell_type": "code",
   "execution_count": 112,
   "metadata": {},
   "outputs": [],
   "source": [
    "class Operacion implements Matematicas\n",
    "{\n",
    "    @Override\n",
    "    public int sumar(int x, int y)\n",
    "    {\n",
    "        return x + y;\n",
    "    }\n",
    "}"
   ]
  },
  {
   "cell_type": "code",
   "execution_count": 111,
   "metadata": {},
   "outputs": [
    {
     "data": {
      "text/plain": [
       "5"
      ]
     },
     "execution_count": 111,
     "metadata": {},
     "output_type": "execute_result"
    }
   ],
   "source": [
    "Matematicas m = new Operacion();\n",
    "m.sumar(2, 3);"
   ]
  },
  {
   "cell_type": "markdown",
   "metadata": {},
   "source": [
    "O se puede realizar una implementación con clases anónimas sobre un interface..."
   ]
  },
  {
   "cell_type": "code",
   "execution_count": 110,
   "metadata": {},
   "outputs": [
    {
     "data": {
      "text/plain": [
       "5"
      ]
     },
     "execution_count": 110,
     "metadata": {},
     "output_type": "execute_result"
    }
   ],
   "source": [
    "Matematicas m = new Matematicas(){\n",
    "        @Override\n",
    "        public int sumar(int x, int y)\n",
    "        {\n",
    "            return x + y;\n",
    "        }\n",
    "    };\n",
    "m.sumar(2, 3);"
   ]
  },
  {
   "cell_type": "markdown",
   "metadata": {},
   "source": [
    "#### Versión funcional\n",
    "\n",
    "O se puede realizar la **implementación funcional**, mucho más sencillo y limpio. Aunque es importante saber qué hay por detrás...\n",
    "\n",
    "La expresión lambda se realiza sobre el único método que existe en el interface Matemáticas. Recibirá dos argumentos y devolverá un entero."
   ]
  },
  {
   "cell_type": "code",
   "execution_count": 113,
   "metadata": {},
   "outputs": [
    {
     "data": {
      "text/plain": [
       "5"
      ]
     },
     "execution_count": 113,
     "metadata": {},
     "output_type": "execute_result"
    }
   ],
   "source": [
    "Matematicas m = (x, y) -> x + y;\n",
    "m.sumar(2, 3)"
   ]
  },
  {
   "cell_type": "markdown",
   "metadata": {},
   "source": [
    "### Programación funcional de tipos SAM con un problema más completo"
   ]
  },
  {
   "cell_type": "markdown",
   "metadata": {},
   "source": [
    "#### Versión procedural"
   ]
  },
  {
   "cell_type": "code",
   "execution_count": 144,
   "metadata": {},
   "outputs": [],
   "source": [
    "public interface Pintable\n",
    "{\n",
    "    public Object pintar();\n",
    "}"
   ]
  },
  {
   "cell_type": "code",
   "execution_count": 145,
   "metadata": {},
   "outputs": [],
   "source": [
    "public class PintarSpanyol implements Pintable\n",
    "{\n",
    "    public Object pintar()\n",
    "    {\n",
    "        return \"ROJO\";\n",
    "    }\n",
    "}\n",
    "\n",
    "public class PintarColor implements Pintable\n",
    "{\n",
    "    public Object pintar()\n",
    "    {\n",
    "        return java.awt.Color.RED;\n",
    "    }\n",
    "}\n",
    "\n",
    "public class PintarHexadecimal implements Pintable\n",
    "{\n",
    "    public Object pintar()\n",
    "    {\n",
    "        return \"#FF0000\";\n",
    "    }\n",
    "}"
   ]
  },
  {
   "cell_type": "code",
   "execution_count": 146,
   "metadata": {},
   "outputs": [
    {
     "name": "stdout",
     "output_type": "stream",
     "text": [
      "ROJO\n",
      "java.awt.Color[r=255,g=0,b=0]\n",
      "#FF0000\n"
     ]
    }
   ],
   "source": [
    "Pintable strPintable = new PintarSpanyol();\n",
    "Pintable colorPintable = new PintarColor();\n",
    "Pintable hexPintable = new PintarHexadecimal();\n",
    "\n",
    "Collection<Pintable> pintables = List.of(strPintable, colorPintable, hexPintable);\n",
    "\n",
    "for(Pintable pintable:pintables)\n",
    "    System.out.println(pintable.pintar());"
   ]
  },
  {
   "cell_type": "markdown",
   "metadata": {},
   "source": [
    "#### Versión funcional"
   ]
  },
  {
   "cell_type": "code",
   "execution_count": 147,
   "metadata": {},
   "outputs": [],
   "source": [
    "@FunctionalInterface\n",
    "public interface Pintable\n",
    "{\n",
    "    public Object pintar();\n",
    "}"
   ]
  },
  {
   "cell_type": "code",
   "execution_count": 143,
   "metadata": {},
   "outputs": [
    {
     "name": "stdout",
     "output_type": "stream",
     "text": [
      "ROJO\n",
      "java.awt.Color[r=255,g=0,b=0]\n",
      "#FF0000\n"
     ]
    }
   ],
   "source": [
    "Pintable strPintable = () -> \"ROJO\";\n",
    "Pintable colorPintable = () -> java.awt.Color.RED;\n",
    "Pintable hexPintable = () -> \"#FF0000\";\n",
    "\n",
    "Collection<Pintable> pintables = List.of(strPintable, colorPintable, hexPintable);\n",
    "\n",
    "pintables.stream()\n",
    "    .map(Pintable::pintar)\n",
    "    .forEach(System.out::println);"
   ]
  },
  {
   "cell_type": "markdown",
   "metadata": {},
   "source": [
    "## Solución Java a las Lists Comprehension de Python\n",
    "\n",
    "Aproximación en Java de este tipo de expresiones.\n",
    "\n",
    "### Python\n",
    "\n",
    "```python\n",
    "lista = [\"abc\", \"ab\", \"abcd\"]\n",
    "[x.upper() for x in lista if len(x) > 2]\n",
    "\n",
    "[ABC, ABCD]\n",
    "```\n"
   ]
  },
  {
   "cell_type": "markdown",
   "metadata": {},
   "source": [
    "### Java"
   ]
  },
  {
   "cell_type": "code",
   "execution_count": 152,
   "metadata": {},
   "outputs": [
    {
     "data": {
      "text/plain": [
       "[ABC, ABCD]"
      ]
     },
     "execution_count": 152,
     "metadata": {},
     "output_type": "execute_result"
    }
   ],
   "source": [
    "var lista = List.of(\"abc\", \"ab\", \"abcd\");\n",
    "lista.stream().filter(x -> x.length() > 2).map(x -> x.toUpperCase()).toList()"
   ]
  },
  {
   "cell_type": "markdown",
   "metadata": {},
   "source": [
    "## Arrays como Streams"
   ]
  },
  {
   "cell_type": "code",
   "execution_count": null,
   "metadata": {},
   "outputs": [],
   "source": [
    "String[] miArray = {\"Hola\", \"como\", \"estás\"};\n",
    "Arrays.stream(miArray).forEach(System.out::println);"
   ]
  }
 ],
 "metadata": {
  "kernelspec": {
   "display_name": "Java",
   "language": "java",
   "name": "java"
  },
  "language_info": {
   "codemirror_mode": "java",
   "file_extension": ".jshell",
   "mimetype": "text/x-java-source",
   "name": "Java",
   "pygments_lexer": "java",
   "version": "16.0.1+9-24"
  }
 },
 "nbformat": 4,
 "nbformat_minor": 4
}
