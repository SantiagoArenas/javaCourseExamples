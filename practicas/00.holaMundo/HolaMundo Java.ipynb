{
 "cells": [
  {
   "cell_type": "markdown",
   "id": "ad67e8d7-a5e6-4f86-aea5-ab2a593ffaaa",
   "metadata": {},
   "source": [
    "# Ejemplo de manipulación de variables y objetos en Java"
   ]
  },
  {
   "cell_type": "markdown",
   "id": "bf8c8bdd-f9f4-4340-8a91-ce9ba6658264",
   "metadata": {},
   "source": [
    "Definición y tipificación siempre en Java"
   ]
  },
  {
   "cell_type": "code",
   "execution_count": 6,
   "id": "dabf2699-ab16-4582-8a42-0f2b2a8fd045",
   "metadata": {},
   "outputs": [],
   "source": [
    "String nombre;\n",
    "int edad;\n",
    "String direccion;"
   ]
  },
  {
   "cell_type": "code",
   "execution_count": 7,
   "id": "1160f02f-de2f-4b64-a465-a2e2a71781a7",
   "metadata": {},
   "outputs": [],
   "source": [
    "nombre = \"Luis\";"
   ]
  },
  {
   "cell_type": "code",
   "execution_count": 8,
   "id": "cecd6394-a3a2-4c76-aec9-ffc9fbadc58e",
   "metadata": {},
   "outputs": [
    {
     "ename": "CompilationException",
     "evalue": "",
     "output_type": "error",
     "traceback": [
      "\u001b[1m\u001b[30m|   \u001b[1m\u001b[30mnombre = \u001b[0m\u001b[1m\u001b[30m\u001b[41m12\u001b[0m\u001b[1m\u001b[30m;\u001b[0m",
      "\u001b[1m\u001b[31mincompatible types: int cannot be converted to java.lang.String\u001b[0m",
      ""
     ]
    }
   ],
   "source": [
    "nombre = 12;"
   ]
  },
  {
   "cell_type": "code",
   "execution_count": 9,
   "id": "52264254-abc8-4cfc-8ab3-67f6be9cebb8",
   "metadata": {},
   "outputs": [],
   "source": [
    "String apellidos = \"López\""
   ]
  },
  {
   "cell_type": "code",
   "execution_count": 10,
   "id": "6b2bd07a-ad39-486b-9ae1-69fa677689d3",
   "metadata": {},
   "outputs": [
    {
     "data": {
      "text/plain": [
       "24"
      ]
     },
     "execution_count": 10,
     "metadata": {},
     "output_type": "execute_result"
    }
   ],
   "source": [
    "12 + 12;"
   ]
  },
  {
   "cell_type": "code",
   "execution_count": 11,
   "id": "c209c8a9-1548-41f2-ae4c-187eee71fb58",
   "metadata": {},
   "outputs": [
    {
     "data": {
      "text/plain": [
       "24.4"
      ]
     },
     "execution_count": 11,
     "metadata": {},
     "output_type": "execute_result"
    }
   ],
   "source": [
    "23.4 + 1;"
   ]
  },
  {
   "cell_type": "markdown",
   "id": "8e7685d6-0399-4261-b3b6-8003c05dfbdb",
   "metadata": {},
   "source": [
    "Ejecución de métodos sobre los objetos String"
   ]
  },
  {
   "cell_type": "code",
   "execution_count": 12,
   "id": "cf5defe9-bd5a-49f1-b199-ea9ead6b827f",
   "metadata": {},
   "outputs": [
    {
     "data": {
      "text/plain": [
       "4"
      ]
     },
     "execution_count": 12,
     "metadata": {},
     "output_type": "execute_result"
    }
   ],
   "source": [
    "nombre.length()"
   ]
  },
  {
   "cell_type": "code",
   "execution_count": 13,
   "id": "21bf0652-3660-4dbc-9b54-2b0502d480d3",
   "metadata": {},
   "outputs": [
    {
     "data": {
      "text/plain": [
       "L"
      ]
     },
     "execution_count": 13,
     "metadata": {},
     "output_type": "execute_result"
    }
   ],
   "source": [
    "nombre.charAt(0)"
   ]
  },
  {
   "cell_type": "code",
   "execution_count": 14,
   "id": "beba4a29-ead2-4041-8e50-4ca05da1c4fd",
   "metadata": {},
   "outputs": [
    {
     "name": "stdout",
     "output_type": "stream",
     "text": [
      "Hola\n"
     ]
    }
   ],
   "source": [
    "System.out.println(\"Hola\")"
   ]
  },
  {
   "cell_type": "code",
   "execution_count": 16,
   "id": "5c7839ef-cd70-426a-964f-37f75a868b26",
   "metadata": {},
   "outputs": [],
   "source": [
    "String nombre = \"Luis\""
   ]
  },
  {
   "cell_type": "code",
   "execution_count": 17,
   "id": "cce27cf9-a8bb-458a-853b-4a4fea9c044b",
   "metadata": {},
   "outputs": [
    {
     "data": {
      "text/plain": [
       "LUIS"
      ]
     },
     "execution_count": 17,
     "metadata": {},
     "output_type": "execute_result"
    }
   ],
   "source": [
    "nombre.toUpperCase()"
   ]
  },
  {
   "cell_type": "code",
   "execution_count": 21,
   "id": "0e194d46-38fc-4c52-bc53-26812a19a9ba",
   "metadata": {},
   "outputs": [],
   "source": [
    "String nombreCompleto = nombre + \" \" + apellidos"
   ]
  },
  {
   "cell_type": "code",
   "execution_count": 22,
   "id": "a34a917e-0f96-46f2-8a65-f8c1ef987711",
   "metadata": {},
   "outputs": [
    {
     "name": "stdout",
     "output_type": "stream",
     "text": [
      "Luis López\n"
     ]
    }
   ],
   "source": [
    "System.out.println(nombreCompleto);"
   ]
  },
  {
   "cell_type": "code",
   "execution_count": 23,
   "id": "adb570ba-03f8-4ddf-ae00-528f49400a22",
   "metadata": {},
   "outputs": [
    {
     "name": "stdout",
     "output_type": "stream",
     "text": [
      "A\tA\n",
      "-X\n",
      "C\\ Segovia, 12\n"
     ]
    }
   ],
   "source": [
    "System.out.println(\"A\\tA\" + \"\\n-\" + \"X\");\n",
    "System.out.println(\"C\\\\ Segovia, 12\")"
   ]
  },
  {
   "cell_type": "code",
   "execution_count": 24,
   "id": "513de8b5-0aed-4e60-a6c2-271372ab7c30",
   "metadata": {},
   "outputs": [
    {
     "data": {
      "text/plain": [
       "4wwwa"
      ]
     },
     "execution_count": 24,
     "metadata": {},
     "output_type": "execute_result"
    }
   ],
   "source": [
    "\"awwwa\".replaceFirst(\"a\", \"4\")"
   ]
  },
  {
   "cell_type": "code",
   "execution_count": null,
   "id": "14709fdf-4c68-4594-9fe8-8123c93679b9",
   "metadata": {},
   "outputs": [],
   "source": []
  }
 ],
 "metadata": {
  "kernelspec": {
   "display_name": "Java",
   "language": "java",
   "name": "java"
  },
  "language_info": {
   "codemirror_mode": "java",
   "file_extension": ".jshell",
   "mimetype": "text/x-java-source",
   "name": "Java",
   "pygments_lexer": "java",
   "version": "11.0.12+8-LTS-237"
  }
 },
 "nbformat": 4,
 "nbformat_minor": 5
}
