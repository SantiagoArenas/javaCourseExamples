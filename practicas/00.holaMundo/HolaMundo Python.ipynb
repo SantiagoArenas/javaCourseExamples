{
 "cells": [
  {
   "cell_type": "markdown",
   "id": "b4161bf9-c08e-42f6-877b-ab603672f870",
   "metadata": {},
   "source": [
    "# Ejemplo de manipulación de variables y objetos en Python"
   ]
  },
  {
   "cell_type": "code",
   "execution_count": 17,
   "id": "caa0fc2a-362f-4f79-ae4b-4ada6582b3df",
   "metadata": {},
   "outputs": [],
   "source": [
    "nombre = \"Luis\"\n",
    "edad = 12"
   ]
  },
  {
   "cell_type": "code",
   "execution_count": 19,
   "id": "c6433fca-3445-4e5e-9926-ce8b09672118",
   "metadata": {},
   "outputs": [
    {
     "name": "stdout",
     "output_type": "stream",
     "text": [
      "12\n"
     ]
    }
   ],
   "source": [
    "print(edad)"
   ]
  },
  {
   "cell_type": "code",
   "execution_count": 3,
   "id": "ae874485-7b41-4ac5-bb22-c413267ffab1",
   "metadata": {},
   "outputs": [],
   "source": [
    "nombre:str = \"Luis\"\n",
    "edad:int = 12"
   ]
  },
  {
   "cell_type": "code",
   "execution_count": 4,
   "id": "a68f1479-4c9e-48eb-9fa4-91d508fe454b",
   "metadata": {},
   "outputs": [],
   "source": [
    "nombre:str = \"Luis\"\n",
    "edad:int = \"aaa\""
   ]
  },
  {
   "cell_type": "code",
   "execution_count": 5,
   "id": "5f8cba42-9c1b-4df1-9b2d-122f89565644",
   "metadata": {},
   "outputs": [
    {
     "data": {
      "text/plain": [
       "str"
      ]
     },
     "execution_count": 5,
     "metadata": {},
     "output_type": "execute_result"
    }
   ],
   "source": [
    "type(nombre)"
   ]
  },
  {
   "cell_type": "code",
   "execution_count": 6,
   "id": "812fc696-e464-416f-9bf2-617b0de99a7c",
   "metadata": {},
   "outputs": [
    {
     "ename": "ValueError",
     "evalue": "invalid literal for int() with base 10: 'aas'",
     "output_type": "error",
     "traceback": [
      "\u001b[0;31m---------------------------------------------------------------------------\u001b[0m",
      "\u001b[0;31mValueError\u001b[0m                                Traceback (most recent call last)",
      "\u001b[0;32m/tmp/ipykernel_2896196/1518507625.py\u001b[0m in \u001b[0;36m<module>\u001b[0;34m\u001b[0m\n\u001b[0;32m----> 1\u001b[0;31m \u001b[0mint\u001b[0m\u001b[0;34m(\u001b[0m\u001b[0;34m\"aas\"\u001b[0m\u001b[0;34m)\u001b[0m\u001b[0;34m\u001b[0m\u001b[0;34m\u001b[0m\u001b[0m\n\u001b[0m",
      "\u001b[0;31mValueError\u001b[0m: invalid literal for int() with base 10: 'aas'"
     ]
    }
   ],
   "source": [
    "int(\"aas\")"
   ]
  },
  {
   "cell_type": "markdown",
   "id": "e38e709f-9dfe-41a1-bb18-210226366f08",
   "metadata": {},
   "source": [
    "Invocación de una función en Python. En Java no hay funciones, todo son métodos."
   ]
  },
  {
   "cell_type": "code",
   "execution_count": 21,
   "id": "24a2f7c4-57af-454f-bb6c-36006e7fc772",
   "metadata": {},
   "outputs": [
    {
     "data": {
      "text/plain": [
       "4"
      ]
     },
     "execution_count": 21,
     "metadata": {},
     "output_type": "execute_result"
    }
   ],
   "source": [
    "len(nombre)"
   ]
  },
  {
   "cell_type": "markdown",
   "id": "8cba05ff-0f90-49a4-b5ad-b0fb3b73d0a3",
   "metadata": {},
   "source": [
    "Inferencia de tipos en Python"
   ]
  },
  {
   "cell_type": "code",
   "execution_count": 8,
   "id": "cab7d32a-b260-4e99-8512-49532de55cf7",
   "metadata": {},
   "outputs": [],
   "source": [
    "edad = 12"
   ]
  },
  {
   "cell_type": "code",
   "execution_count": 9,
   "id": "1d727aec-c9b1-4e4a-b3ab-9c9d46689b9a",
   "metadata": {},
   "outputs": [],
   "source": [
    "edad = \"a\""
   ]
  },
  {
   "cell_type": "code",
   "execution_count": 20,
   "id": "ae72f722-72b2-4a22-81a5-a7457c9f8fda",
   "metadata": {},
   "outputs": [
    {
     "name": "stdout",
     "output_type": "stream",
     "text": [
      "12\n"
     ]
    }
   ],
   "source": [
    "print(edad)"
   ]
  },
  {
   "cell_type": "code",
   "execution_count": 22,
   "id": "4027a1a0-5ae0-47e3-91ab-b5ac43c3d077",
   "metadata": {},
   "outputs": [
    {
     "name": "stdout",
     "output_type": "stream",
     "text": [
      "Hola\n"
     ]
    }
   ],
   "source": [
    "print(\"Hola\")"
   ]
  },
  {
   "cell_type": "code",
   "execution_count": 23,
   "id": "ba2a240e-c243-496a-a443-fc2c1588516e",
   "metadata": {},
   "outputs": [
    {
     "name": "stdout",
     "output_type": "stream",
     "text": [
      "ab"
     ]
    }
   ],
   "source": [
    "print(\"a\", end = \"\")\n",
    "print(\"b\", end = \"\")"
   ]
  },
  {
   "cell_type": "code",
   "execution_count": 24,
   "id": "2a7601d3-8092-42d6-b192-85bbb34e359c",
   "metadata": {},
   "outputs": [
    {
     "name": "stdout",
     "output_type": "stream",
     "text": [
      "Yo me llamo David, alias \"el profe\"\n"
     ]
    }
   ],
   "source": [
    "print(\"Yo me llamo David, alias \\\"el profe\\\"\")"
   ]
  },
  {
   "cell_type": "code",
   "execution_count": null,
   "id": "a4a5f5b5-b2d3-4da1-b66b-ac7d94833625",
   "metadata": {},
   "outputs": [],
   "source": []
  }
 ],
 "metadata": {
  "kernelspec": {
   "display_name": "Python 3 (ipykernel)",
   "language": "python",
   "name": "python3"
  },
  "language_info": {
   "codemirror_mode": {
    "name": "ipython",
    "version": 3
   },
   "file_extension": ".py",
   "mimetype": "text/x-python",
   "name": "python",
   "nbconvert_exporter": "python",
   "pygments_lexer": "ipython3",
   "version": "3.8.10"
  }
 },
 "nbformat": 4,
 "nbformat_minor": 5
}
